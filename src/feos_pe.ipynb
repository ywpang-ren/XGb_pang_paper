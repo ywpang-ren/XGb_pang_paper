{
 "cells": [
  {
   "cell_type": "code",
   "execution_count": 3,
   "metadata": {},
   "outputs": [],
   "source": [
    "from feos.si import *\n",
    "from feos.pcsaft import *\n",
    "from feos.eos import *\n",
    "from feos.dft import *\n",
    "\n",
    "import numpy as np\n",
    "import pandas as pd\n",
    "import matplotlib.pyplot as plt\n",
    "%matplotlib inline"
   ]
  },
  {
   "cell_type": "code",
   "execution_count": null,
   "metadata": {},
   "outputs": [
    {
     "data": {
      "text/markdown": [
       "|component|molarweight|$m$|$\\sigma$|$\\varepsilon$|$\\mu$|$Q$|$\\kappa_{AB}$|$\\varepsilon_{AB}$|$N_A$|$N_B$|$N_C$|\n",
       "|-|-|-|-|-|-|-|-|-|-|-|-|\n",
       "|water|18.015|1.0656|3.0007|366.51|0|0|0.034868|2500.7|1|1|0|\n",
       "|2-propanol|60.096|3.0929|3.2085|208.42|0|0|0.024675|2253.9|1|1|0|"
      ],
      "text/plain": [
       "<PcSaftParameters at 0x190de477a30>"
      ]
     },
     "execution_count": 7,
     "metadata": {},
     "output_type": "execute_result"
    }
   ],
   "source": [
    "params = PcSaftParameters.from_json(\n",
    "    ['water','1-butanol'],\n",
    "    'gross2002.json',\n",
    "    \n",
    ")\n",
    "params"
   ]
  },
  {
   "cell_type": "code",
   "execution_count": 140,
   "metadata": {},
   "outputs": [],
   "source": [
    "p = PcSaftParameters.new_binary(params.pure_records, 0.0077)"
   ]
  },
  {
   "cell_type": "code",
   "execution_count": 149,
   "metadata": {},
   "outputs": [],
   "source": [
    "import pandas as pd\n",
    "#vle_data = pd.read_excel(\"data_isotherm.xlsx\",sheet_name = \"water+1-butanol\")\n",
    "vle_data = pd.read_excel(\"test_time.xlsx\",sheet_name = \"water+1-butanol\")\n",
    "x_data = vle_data.iloc[19:20,0].to_numpy()\n",
    "t_data = vle_data.iloc[19:20,1].to_numpy()\n",
    "y_data = vle_data.iloc[19:20,2].to_numpy()\n",
    "p_data = (vle_data.iloc[19:20,3] / 1e5).to_numpy()\n",
    "\n",
    "# p_data"
   ]
  },
  {
   "cell_type": "code",
   "execution_count": 150,
   "metadata": {},
   "outputs": [
    {
     "data": {
      "text/plain": [
       "array([0.2])"
      ]
     },
     "execution_count": 150,
     "metadata": {},
     "output_type": "execute_result"
    }
   ],
   "source": [
    "func = HelmholtzEnergyFunctional.pcsaft(p)\n",
    "\n",
    "#state =  State(func,T,pressure = p0 * BAR,molefracs = np.array(mole_list))\n",
    "x_data"
   ]
  },
  {
   "cell_type": "code",
   "execution_count": 133,
   "metadata": {},
   "outputs": [],
   "source": [
    "import time"
   ]
  },
  {
   "cell_type": "code",
   "execution_count": 151,
   "metadata": {},
   "outputs": [
    {
     "name": "stdout",
     "output_type": "stream",
     "text": [
      "执行时间：0.007998466491699219s\n"
     ]
    }
   ],
   "source": [
    "start_time = time.time()\n",
    "y_calc = np.zeros(len(x_data))\n",
    "for i in range(0,len(x_data)):\n",
    "    mole_list = [x_data[i], 1.0-x_data[i]]\n",
    "\n",
    "    # vle_clac = PhaseEquilibrium.bubble_point(func,p_data[i]*BAR,liquid_molefracs = np.array(mole_list),\n",
    "    # tp_init = t_data[i]*KELVIN)\n",
    "    vle_clac = PhaseEquilibrium.bubble_point(func,t_data[i]*KELVIN,liquid_molefracs = np.array(mole_list),\n",
    "    )\n",
    "    y_calc[i] = vle_clac.vapor.molefracs[0]\n",
    "    #print(f\"{i}, {x_data[i]}, {y_calc[i]}\")\n",
    "\n",
    "end_time = time.time()\n",
    "elapsed_time = end_time - start_time\n",
    "print(f\"执行时间：{elapsed_time}s\")"
   ]
  },
  {
   "cell_type": "code",
   "execution_count": 215,
   "metadata": {},
   "outputs": [
    {
     "data": {
      "text/plain": [
       "10"
      ]
     },
     "execution_count": 215,
     "metadata": {},
     "output_type": "execute_result"
    }
   ],
   "source": [
    "len(x_data)"
   ]
  },
  {
   "cell_type": "code",
   "execution_count": 148,
   "metadata": {},
   "outputs": [],
   "source": [
    "series = pd.Series(y_calc)\n",
    "series.to_csv('ycalc_data.csv', index=False, header = False,encoding='utf-8')"
   ]
  },
  {
   "cell_type": "code",
   "execution_count": 43,
   "metadata": {},
   "outputs": [
    {
     "ename": "PanicException",
     "evalue": "called `Result::unwrap()` on an `Err` value: NotConverged(\"Cross association\")",
     "output_type": "error",
     "traceback": [
      "\u001b[1;31m---------------------------------------------------------------------------\u001b[0m",
      "\u001b[1;31mPanicException\u001b[0m                            Traceback (most recent call last)",
      "Cell \u001b[1;32mIn[43], line 2\u001b[0m\n\u001b[0;32m      1\u001b[0m \u001b[38;5;66;03m#PhaseEquilibrium.bubble_point\u001b[39;00m\n\u001b[1;32m----> 2\u001b[0m vle \u001b[38;5;241m=\u001b[39m \u001b[43mPhaseEquilibrium\u001b[49m\u001b[38;5;241;43m.\u001b[39;49m\u001b[43mbubble_point\u001b[49m\u001b[43m(\u001b[49m\u001b[43mfunc\u001b[49m\u001b[43m,\u001b[49m\u001b[38;5;241;43m303.134\u001b[39;49m\u001b[38;5;241;43m*\u001b[39;49m\u001b[43mKELVIN\u001b[49m\u001b[43m,\u001b[49m\u001b[43mliquid_molefracs\u001b[49m\u001b[43m \u001b[49m\u001b[38;5;241;43m=\u001b[39;49m\u001b[43m \u001b[49m\u001b[43mnp\u001b[49m\u001b[38;5;241;43m.\u001b[39;49m\u001b[43marray\u001b[49m\u001b[43m(\u001b[49m\u001b[43m[\u001b[49m\u001b[38;5;241;43m0.976937903\u001b[39;49m\u001b[43m,\u001b[49m\u001b[38;5;241;43m1\u001b[39;49m\u001b[38;5;241;43m-\u001b[39;49m\u001b[38;5;241;43m0.976937903\u001b[39;49m\u001b[43m]\u001b[49m\u001b[43m)\u001b[49m\u001b[43m,\u001b[49m\n\u001b[0;32m      3\u001b[0m \u001b[43m    \u001b[49m\u001b[43mtol_inner\u001b[49m\u001b[38;5;241;43m=\u001b[39;49m\u001b[38;5;241;43m1e-7\u001b[39;49m\u001b[43m)\u001b[49m\n\u001b[0;32m      4\u001b[0m vle\n",
      "\u001b[1;31mPanicException\u001b[0m: called `Result::unwrap()` on an `Err` value: NotConverged(\"Cross association\")"
     ]
    }
   ],
   "source": [
    "#PhaseEquilibrium.bubble_point\n",
    "vle = PhaseEquilibrium.bubble_point(func,303.134*KELVIN,liquid_molefracs = np.array([0.976937903,1-0.976937903]),\n",
    "    tol_inner=1e-7)\n",
    "vle"
   ]
  },
  {
   "cell_type": "code",
   "execution_count": 36,
   "metadata": {},
   "outputs": [
    {
     "data": {
      "text/plain": [
       "0.33888976662337306"
      ]
     },
     "execution_count": 36,
     "metadata": {},
     "output_type": "execute_result"
    }
   ],
   "source": [
    "vle.vapor.molefracs[0]\n"
   ]
  },
  {
   "cell_type": "code",
   "execution_count": null,
   "metadata": {},
   "outputs": [],
   "source": []
  }
 ],
 "metadata": {
  "kernelspec": {
   "display_name": "Python 3",
   "language": "python",
   "name": "python3"
  },
  "language_info": {
   "codemirror_mode": {
    "name": "ipython",
    "version": 3
   },
   "file_extension": ".py",
   "mimetype": "text/x-python",
   "name": "python",
   "nbconvert_exporter": "python",
   "pygments_lexer": "ipython3",
   "version": "3.10.11"
  }
 },
 "nbformat": 4,
 "nbformat_minor": 2
}

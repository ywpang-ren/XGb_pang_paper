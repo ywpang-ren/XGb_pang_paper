{
 "cells": [
  {
   "cell_type": "code",
   "execution_count": 345,
   "id": "952b7578",
   "metadata": {},
   "outputs": [],
   "source": [
    "import numpy as np\n",
    "import pandas as pd\n",
    "from scipy.optimize import least_squares\n",
    "import matplotlib.pyplot as plt\n",
    "from feos.eos import EquationOfState, PhaseDiagram\n",
    "from feos.pcsaft import Identifier, IdentifierOption, PcSaftParameters, PcSaftRecord, PureRecord\n",
    "from feos.eos.estimator import Estimator, Loss, DataSet, Phase\n",
    "from feos.si import *"
   ]
  },
  {
   "cell_type": "code",
   "execution_count": 346,
   "id": "ebe25a6a",
   "metadata": {},
   "outputs": [],
   "source": [
    "def eos_from_kij(kij):\n",
    "    \"\"\"Returns equation of state (PC-SAFT) for current kij.\"\"\"\n",
    "    global parameters\n",
    "    p = PcSaftParameters.new_binary(parameters.pure_records, kij)\n",
    "    return EquationOfState.pcsaft(p)\n",
    "\n",
    "def cost(kij, estimator):\n",
    "    \"\"\"Calculates cost function for current parameters.\"\"\"\n",
    "    return estimator.cost(eos_from_kij(kij))"
   ]
  },
  {
   "cell_type": "code",
   "execution_count": 789,
   "id": "bbb5df65",
   "metadata": {},
   "outputs": [
    {
     "data": {
      "text/markdown": [
       "|component|molarweight|$m$|$\\sigma$|$\\varepsilon$|$\\mu$|$Q$|$\\kappa_{AB}$|$\\varepsilon_{AB}$|$N_A$|$N_B$|$N_C$|\n",
       "|-|-|-|-|-|-|-|-|-|-|-|-|\n",
       "|water|18.015|1.0656|3.0007|366.51|0|0|0.034868|2500.7|1|1|0|\n",
       "|1-butanol|74.123|2.7515|3.6139|259.59|0|0|0.006692|2544.6|1|1|0|"
      ],
      "text/plain": [
       "<PcSaftParameters at 0x1f4525015d0>"
      ]
     },
     "execution_count": 789,
     "metadata": {},
     "output_type": "execute_result"
    }
   ],
   "source": [
    "parameters = PcSaftParameters.from_json([\"water\", \"1-butanol\"], \"gross2002.json\")\n",
    "pcsaft = EquationOfState.pcsaft(parameters)\n",
    "parameters"
   ]
  },
  {
   "cell_type": "code",
   "execution_count": null,
   "id": "209f5bc7",
   "metadata": {},
   "outputs": [],
   "source": [
    "import pandas as pd\n",
    "vle_bar = pd.read_excel(\"data_isotherm.xlsx\", sheet_name = \"water+1-butanol\")\n",
    "x_data = vle_bar.iloc[54:61,0].to_numpy()\n",
    "t_data = (vle_bar.iloc[54:61,1] * 1.0).to_numpy()\n",
    "y_data = vle_bar.iloc[54:61,2].to_numpy()\n",
    "p_data = (vle_bar.iloc[54:61,3] / 1e5).to_numpy()\n"
   ]
  },
  {
   "cell_type": "code",
   "execution_count": 837,
   "id": "439328a5",
   "metadata": {},
   "outputs": [
    {
     "data": {
      "text/plain": [
       "array([0.05, 0.1, 0.2, 0.3, 0.4, 0.5, 0.562, 0.6, 0.7, 0.8, 0.9, 0.984],\n",
       "      dtype=object)"
      ]
     },
     "execution_count": 837,
     "metadata": {},
     "output_type": "execute_result"
    }
   ],
   "source": [
    "x_data"
   ]
  },
  {
   "cell_type": "code",
   "execution_count": 838,
   "id": "9ba6582a",
   "metadata": {},
   "outputs": [],
   "source": [
    "df = pd.DataFrame({\n",
    "    'x': x_data,\n",
    "    't': t_data,\n",
    "    'y': y_data,\n",
    "    'p': p_data\n",
    "})\n",
    "df.to_csv('vle_isobar_t.csv',index = False)"
   ]
  },
  {
   "cell_type": "code",
   "execution_count": 839,
   "id": "a35745d6",
   "metadata": {},
   "outputs": [],
   "source": [
    "data = pd.read_csv(\"vle_isobar_t.csv\")"
   ]
  },
  {
   "cell_type": "code",
   "execution_count": 84,
   "id": "7d80bd42",
   "metadata": {},
   "outputs": [
    {
     "name": "stdout",
     "output_type": "stream",
     "text": [
      "              x                                                            \\\n",
      "          count    mean       std       min       25%       50%       75%   \n",
      "t                                                                           \n",
      "313.03004   9.0  0.7488  0.161763  0.373575  0.677394  0.772225  0.845705   \n",
      "\n",
      "                        y            ...                         p            \\\n",
      "                max count      mean  ...       75%       max count      mean   \n",
      "t                                    ...                                       \n",
      "313.03004  0.887487   9.0  0.372572  ...  0.449344  0.540214   9.0  0.169601   \n",
      "\n",
      "                                                                     \n",
      "               std      min       25%       50%       75%       max  \n",
      "t                                                                    \n",
      "313.03004  0.04377  0.12559  0.142388  0.168519  0.195451  0.262512  \n",
      "\n",
      "[1 rows x 24 columns]\n"
     ]
    }
   ],
   "source": [
    "tmp = data.groupby('t')\n",
    "print(tmp.describe())"
   ]
  },
  {
   "cell_type": "code",
   "execution_count": null,
   "id": "ffa87a0a",
   "metadata": {},
   "outputs": [],
   "source": [
    "#isobaric condition\n",
    "# isobarics = [\n",
    "#     [\n",
    "#         DataSet.binary_vle_pressure(\n",
    "#             isobarc.t.values * KELVIN,\n",
    "#             np.array([p] * len(isobarc)) * BAR,\n",
    "#             isobarc.x.values,\n",
    "#             Phase.Liquid\n",
    "#         ),\n",
    "#         DataSet.binary_vle_pressure(\n",
    "#             isobarc.t.values * KELVIN,\n",
    "#             np.array([p] * len(isobarc)) * BAR,\n",
    "#             isobarc.y.values,\n",
    "#             Phase.Vapor\n",
    "#         ),\n",
    "\n",
    "#     ]\n",
    "#     for p, isobarc in data.groupby('p')\n",
    "# ]"
   ]
  },
  {
   "cell_type": "code",
   "execution_count": 840,
   "id": "10ce74e1",
   "metadata": {},
   "outputs": [],
   "source": [
    "#isothermal condition\n",
    "isotherms = [\n",
    "    [\n",
    "        DataSet.binary_vle_pressure(\n",
    "            np.array([t] * len(isotherm)) * KELVIN,\n",
    "            isotherm.p.values * BAR,\n",
    "            isotherm.x.values,\n",
    "            Phase.Liquid\n",
    "        ),\n",
    "        DataSet.binary_vle_pressure(\n",
    "            np.array([t] * len(isotherm)) * KELVIN,\n",
    "            isotherm.p.values * BAR,\n",
    "            isotherm.y.values,\n",
    "            Phase.Vapor\n",
    "        ),\n",
    "\n",
    "    ]\n",
    "    for t, isotherm in data.groupby('t')\n",
    "]"
   ]
  },
  {
   "cell_type": "code",
   "execution_count": 804,
   "id": "12d0a2df",
   "metadata": {},
   "outputs": [
    {
     "data": {
      "text/plain": [
       "1"
      ]
     },
     "execution_count": 804,
     "metadata": {},
     "output_type": "execute_result"
    }
   ],
   "source": [
    "len(isotherms)"
   ]
  },
  {
   "cell_type": "code",
   "execution_count": 841,
   "id": "68947112",
   "metadata": {},
   "outputs": [],
   "source": [
    "from itertools import chain\n",
    "estimator_p = Estimator(list(chain.from_iterable(isotherms)), weights=[1]*2,losses = [Loss.linear()]*2)"
   ]
  },
  {
   "cell_type": "code",
   "execution_count": null,
   "id": "b44d676a",
   "metadata": {},
   "outputs": [],
   "source": [
    "# estimator_p"
   ]
  },
  {
   "cell_type": "code",
   "execution_count": 842,
   "id": "27aed514",
   "metadata": {},
   "outputs": [
    {
     "name": "stderr",
     "output_type": "stream",
     "text": [
      "C:\\Users\\USER\\AppData\\Local\\Temp\\ipykernel_16176\\2373019003.py:4: DeprecationWarning: Conversion of an array with ndim > 0 to a scalar is deprecated, and will error in future. Ensure you extract a single element from your array before performing this operation. (Deprecated NumPy 1.25.)\n",
      "  p = PcSaftParameters.new_binary(parameters.pure_records, kij)\n"
     ]
    },
    {
     "name": "stdout",
     "output_type": "stream",
     "text": [
      "   Iteration     Total nfev        Cost      Cost reduction    Step norm     Optimality   \n",
      "       0              1         1.6817e-04                                    4.45e-03    \n",
      "       1              2         1.0695e-04      6.12e-05       1.52e-02       9.55e-04    \n",
      "       2              3         1.0510e-04      1.85e-06       2.23e-03       7.74e-05    \n",
      "       3              4         1.0508e-04      1.44e-08       2.05e-04       9.34e-06    \n",
      "       4              5         1.0508e-04      1.89e-10       2.34e-05       9.98e-07    \n",
      "       5              6         1.0508e-04      2.40e-12       2.63e-06       1.18e-07    \n",
      "       6              7         1.0508e-04      3.02e-14       2.95e-07       1.19e-08    \n",
      "`ftol` termination condition is satisfied.\n",
      "Function evaluations 7, initial cost 1.6817e-04, final cost 1.0508e-04, first-order optimality 1.19e-08.\n"
     ]
    }
   ],
   "source": [
    "initial_kij = [0.0] \n",
    "fitted_kij_p = least_squares(cost, initial_kij, bounds=[-0.5, 0.5], args=(estimator_p,),verbose=2).x"
   ]
  },
  {
   "cell_type": "code",
   "execution_count": 843,
   "id": "3a44bffd",
   "metadata": {},
   "outputs": [
    {
     "data": {
      "text/plain": [
       "array([0.01312003])"
      ]
     },
     "execution_count": 843,
     "metadata": {},
     "output_type": "execute_result"
    }
   ],
   "source": [
    "fitted_kij_p"
   ]
  },
  {
   "cell_type": "code",
   "execution_count": null,
   "id": "669c6d00",
   "metadata": {},
   "outputs": [],
   "source": []
  }
 ],
 "metadata": {
  "kernelspec": {
   "display_name": "Python 3",
   "language": "python",
   "name": "python3"
  },
  "language_info": {
   "codemirror_mode": {
    "name": "ipython",
    "version": 3
   },
   "file_extension": ".py",
   "mimetype": "text/x-python",
   "name": "python",
   "nbconvert_exporter": "python",
   "pygments_lexer": "ipython3",
   "version": "3.10.11"
  }
 },
 "nbformat": 4,
 "nbformat_minor": 5
}
